{
 "cells": [
  {
   "cell_type": "markdown",
   "metadata": {},
   "source": [
    "\n",
    "<div class=\"alert alert-block alert-info\"><font size=\"5\"><center><b><u> Sprint 8. Hypothesis Testing  \n",
    "   </u></b></center></font>\n",
    "\\begin{align*}Marc\\:Breysse\\end{align*}"
   ]
  },
  {
   "cell_type": "markdown",
   "metadata": {},
   "source": [
    "<span style=color:blue>*Aprèn a realitzar test d'hipòtesis amb Python.*</span>"
   ]
  },
  {
   "cell_type": "markdown",
   "metadata": {
    "ExecuteTime": {
     "end_time": "2021-04-30T11:09:24.013120Z",
     "start_time": "2021-04-30T11:09:23.992110Z"
    }
   },
   "source": [
    "https://machinelearningmastery.com/statistical-hypothesis-tests-in-python-cheat-sheet"
   ]
  },
  {
   "cell_type": "markdown",
   "metadata": {},
   "source": [
    "# <span style=color:darkblue>Nivell 1</span>"
   ]
  },
  {
   "cell_type": "markdown",
   "metadata": {},
   "source": [
    "<u style=color:blue>Exercici 1:</u>\n",
    "\n",
    "<span style=color:blue>Agafa un conjunt de dades de tema esportiu que t'agradi i selecciona un atribut del conjunt de dades. Calcula el p-valor i digues si rebutja la hipòtesi nul·la agafant un alfa de 5%.</span>"
   ]
  },
  {
   "cell_type": "markdown",
   "metadata": {},
   "source": [
    "<span style=color:green><b> Dataset de Baseball 'mlbbat10.txt'</span>"
   ]
  },
  {
   "cell_type": "markdown",
   "metadata": {},
   "source": [
    "<span style=color:green>\n",
    "Description\n",
    "Major League Baseball Player Hitting Statistics for 2010.\n",
    "\n",
    "Usage\n",
    "mlbbat10\n",
    "    \n",
    "Format\n",
    "A data frame with 1199 observations on the following 19 variables.\n",
    "\n",
    "name\n",
    "Player name\n",
    "\n",
    "team\n",
    "Team abbreviation\n",
    "\n",
    "position\n",
    "Player position\n",
    "\n",
    "game\n",
    "Number of games\n",
    "\n",
    "at_bat\n",
    "Number of at bats\n",
    "\n",
    "run\n",
    "Number of runs\n",
    "\n",
    "hit\n",
    "Number of hits\n",
    "\n",
    "double\n",
    "Number of doubles\n",
    "\n",
    "triple\n",
    "Number of triples\n",
    "\n",
    "home_run\n",
    "Number of home runs\n",
    "\n",
    "rbi\n",
    "Number of runs batted in\n",
    "\n",
    "total_base\n",
    "Total bases, computed as 3HR + 23B + 1*2B + H\n",
    "\n",
    "walk\n",
    "Number of walks\n",
    "\n",
    "strike_out\n",
    "Number of strikeouts\n",
    "\n",
    "stolen_base\n",
    "Number of stolen bases\n",
    "\n",
    "caught_stealing\n",
    "Number of times caught stealing\n",
    "\n",
    "obp\n",
    "On base percentage\n",
    "\n",
    "slg\n",
    "Slugging percentage (total_base / at_bat)\n",
    "\n",
    "bat_avg\n",
    "Batting average\n",
    "<b></span>"
   ]
  },
  {
   "cell_type": "code",
   "execution_count": 2,
   "metadata": {
    "ExecuteTime": {
     "end_time": "2021-04-30T10:37:33.394710Z",
     "start_time": "2021-04-30T10:37:16.694322Z"
    }
   },
   "outputs": [],
   "source": [
    "import os\n",
    "import pandas as pd\n",
    "import numpy as np\n",
    "import seaborn as sns\n",
    "import warnings\n",
    "import matplotlib.pyplot as plt\n",
    "import timeit\n",
    "import random"
   ]
  },
  {
   "cell_type": "code",
   "execution_count": 3,
   "metadata": {
    "ExecuteTime": {
     "end_time": "2021-04-30T10:37:33.459650Z",
     "start_time": "2021-04-30T10:37:33.401682Z"
    }
   },
   "outputs": [],
   "source": [
    "Mlbbat10 = pd.read_csv('mlbbat10.txt', sep='\\t', encoding='utf-8')"
   ]
  },
  {
   "cell_type": "code",
   "execution_count": 34,
   "metadata": {
    "ExecuteTime": {
     "end_time": "2021-04-30T11:45:38.503302Z",
     "start_time": "2021-04-30T11:45:38.433340Z"
    }
   },
   "outputs": [
    {
     "data": {
      "text/html": [
       "<div>\n",
       "<style scoped>\n",
       "    .dataframe tbody tr th:only-of-type {\n",
       "        vertical-align: middle;\n",
       "    }\n",
       "\n",
       "    .dataframe tbody tr th {\n",
       "        vertical-align: top;\n",
       "    }\n",
       "\n",
       "    .dataframe thead th {\n",
       "        text-align: right;\n",
       "    }\n",
       "</style>\n",
       "<table border=\"1\" class=\"dataframe\">\n",
       "  <thead>\n",
       "    <tr style=\"text-align: right;\">\n",
       "      <th></th>\n",
       "      <th>name</th>\n",
       "      <th>team</th>\n",
       "      <th>position</th>\n",
       "      <th>game</th>\n",
       "      <th>at_bat</th>\n",
       "      <th>run</th>\n",
       "      <th>hit</th>\n",
       "      <th>double</th>\n",
       "      <th>triple</th>\n",
       "      <th>home_run</th>\n",
       "      <th>rbi</th>\n",
       "      <th>total_base</th>\n",
       "      <th>walk</th>\n",
       "      <th>strike_out</th>\n",
       "      <th>stolen_base</th>\n",
       "      <th>caught_stealing</th>\n",
       "      <th>obp</th>\n",
       "      <th>slg</th>\n",
       "      <th>bat_avg</th>\n",
       "    </tr>\n",
       "  </thead>\n",
       "  <tbody>\n",
       "    <tr>\n",
       "      <th>0</th>\n",
       "      <td>I Suzuki</td>\n",
       "      <td>SEA</td>\n",
       "      <td>OF</td>\n",
       "      <td>162</td>\n",
       "      <td>680</td>\n",
       "      <td>74</td>\n",
       "      <td>214</td>\n",
       "      <td>30</td>\n",
       "      <td>3</td>\n",
       "      <td>6</td>\n",
       "      <td>43</td>\n",
       "      <td>268</td>\n",
       "      <td>45</td>\n",
       "      <td>86</td>\n",
       "      <td>42</td>\n",
       "      <td>9</td>\n",
       "      <td>0.359</td>\n",
       "      <td>0.394</td>\n",
       "      <td>0.315</td>\n",
       "    </tr>\n",
       "    <tr>\n",
       "      <th>1</th>\n",
       "      <td>D Jeter</td>\n",
       "      <td>NYY</td>\n",
       "      <td>SS</td>\n",
       "      <td>157</td>\n",
       "      <td>663</td>\n",
       "      <td>111</td>\n",
       "      <td>179</td>\n",
       "      <td>30</td>\n",
       "      <td>3</td>\n",
       "      <td>10</td>\n",
       "      <td>67</td>\n",
       "      <td>245</td>\n",
       "      <td>63</td>\n",
       "      <td>106</td>\n",
       "      <td>18</td>\n",
       "      <td>5</td>\n",
       "      <td>0.340</td>\n",
       "      <td>0.370</td>\n",
       "      <td>0.270</td>\n",
       "    </tr>\n",
       "    <tr>\n",
       "      <th>2</th>\n",
       "      <td>M Young</td>\n",
       "      <td>TEX</td>\n",
       "      <td>3B</td>\n",
       "      <td>157</td>\n",
       "      <td>656</td>\n",
       "      <td>99</td>\n",
       "      <td>186</td>\n",
       "      <td>36</td>\n",
       "      <td>3</td>\n",
       "      <td>21</td>\n",
       "      <td>91</td>\n",
       "      <td>291</td>\n",
       "      <td>50</td>\n",
       "      <td>115</td>\n",
       "      <td>4</td>\n",
       "      <td>2</td>\n",
       "      <td>0.330</td>\n",
       "      <td>0.444</td>\n",
       "      <td>0.284</td>\n",
       "    </tr>\n",
       "    <tr>\n",
       "      <th>3</th>\n",
       "      <td>J Pierre</td>\n",
       "      <td>CWS</td>\n",
       "      <td>OF</td>\n",
       "      <td>160</td>\n",
       "      <td>651</td>\n",
       "      <td>96</td>\n",
       "      <td>179</td>\n",
       "      <td>18</td>\n",
       "      <td>3</td>\n",
       "      <td>1</td>\n",
       "      <td>47</td>\n",
       "      <td>206</td>\n",
       "      <td>45</td>\n",
       "      <td>47</td>\n",
       "      <td>68</td>\n",
       "      <td>18</td>\n",
       "      <td>0.341</td>\n",
       "      <td>0.316</td>\n",
       "      <td>0.275</td>\n",
       "    </tr>\n",
       "    <tr>\n",
       "      <th>4</th>\n",
       "      <td>R Weeks</td>\n",
       "      <td>MIL</td>\n",
       "      <td>2B</td>\n",
       "      <td>160</td>\n",
       "      <td>651</td>\n",
       "      <td>112</td>\n",
       "      <td>175</td>\n",
       "      <td>32</td>\n",
       "      <td>4</td>\n",
       "      <td>29</td>\n",
       "      <td>83</td>\n",
       "      <td>302</td>\n",
       "      <td>76</td>\n",
       "      <td>184</td>\n",
       "      <td>11</td>\n",
       "      <td>4</td>\n",
       "      <td>0.366</td>\n",
       "      <td>0.464</td>\n",
       "      <td>0.269</td>\n",
       "    </tr>\n",
       "  </tbody>\n",
       "</table>\n",
       "</div>"
      ],
      "text/plain": [
       "       name team position  game  at_bat  run  hit  double  triple  home_run  \\\n",
       "0  I Suzuki  SEA       OF   162     680   74  214      30       3         6   \n",
       "1   D Jeter  NYY       SS   157     663  111  179      30       3        10   \n",
       "2   M Young  TEX       3B   157     656   99  186      36       3        21   \n",
       "3  J Pierre  CWS       OF   160     651   96  179      18       3         1   \n",
       "4   R Weeks  MIL       2B   160     651  112  175      32       4        29   \n",
       "\n",
       "   rbi  total_base  walk  strike_out  stolen_base  caught_stealing    obp  \\\n",
       "0   43         268    45          86           42                9  0.359   \n",
       "1   67         245    63         106           18                5  0.340   \n",
       "2   91         291    50         115            4                2  0.330   \n",
       "3   47         206    45          47           68               18  0.341   \n",
       "4   83         302    76         184           11                4  0.366   \n",
       "\n",
       "     slg  bat_avg  \n",
       "0  0.394    0.315  \n",
       "1  0.370    0.270  \n",
       "2  0.444    0.284  \n",
       "3  0.316    0.275  \n",
       "4  0.464    0.269  "
      ]
     },
     "execution_count": 34,
     "metadata": {},
     "output_type": "execute_result"
    }
   ],
   "source": [
    "Mlbbat10.head()"
   ]
  },
  {
   "cell_type": "code",
   "execution_count": 4,
   "metadata": {
    "ExecuteTime": {
     "end_time": "2021-04-30T10:37:33.596708Z",
     "start_time": "2021-04-30T10:37:33.465645Z"
    }
   },
   "outputs": [
    {
     "data": {
      "text/plain": [
       "(1199, 19)"
      ]
     },
     "execution_count": 4,
     "metadata": {},
     "output_type": "execute_result"
    }
   ],
   "source": [
    "Mlbbat10.shape"
   ]
  },
  {
   "cell_type": "markdown",
   "metadata": {},
   "source": [
    "<span style=color:green><b> Shapiro-Wilk Test</span>"
   ]
  },
  {
   "cell_type": "markdown",
   "metadata": {
    "ExecuteTime": {
     "end_time": "2021-04-30T11:11:52.633953Z",
     "start_time": "2021-04-30T11:11:52.623953Z"
    }
   },
   "source": [
    "<span style=color:green> H0: the sample has a Gaussian distribution.</span>  \n",
    "<span style=color:green> H1: the sample does not have a Gaussian distribution.</span>"
   ]
  },
  {
   "cell_type": "code",
   "execution_count": 31,
   "metadata": {
    "ExecuteTime": {
     "end_time": "2021-04-30T11:14:08.215685Z",
     "start_time": "2021-04-30T11:14:08.194697Z"
    }
   },
   "outputs": [
    {
     "name": "stdout",
     "output_type": "stream",
     "text": [
      "stat=0.708, p=0.000\n",
      "Probably not Gaussian\n"
     ]
    }
   ],
   "source": [
    "# Example of the Shapiro-Wilk Normality Test\n",
    "from scipy.stats import shapiro\n",
    "stat, p = shapiro(Mlbbat10.double)\n",
    "print('stat=%.3f, p=%.3f' % (stat, p))\n",
    "if p > 0.05:\n",
    "\tprint('Probably Gaussian')\n",
    "else:\n",
    "\tprint('Probably not Gaussian')"
   ]
  },
  {
   "cell_type": "markdown",
   "metadata": {},
   "source": [
    "<span style=color:green> On the following histogram, it is clear that parameter 'double' does not follow a gaussian curve </span>"
   ]
  },
  {
   "cell_type": "code",
   "execution_count": 27,
   "metadata": {
    "ExecuteTime": {
     "end_time": "2021-04-30T11:08:04.796761Z",
     "start_time": "2021-04-30T11:08:04.072175Z"
    }
   },
   "outputs": [
    {
     "data": {
      "text/plain": [
       "array([[<AxesSubplot:title={'center':'double'}>]], dtype=object)"
      ]
     },
     "execution_count": 27,
     "metadata": {},
     "output_type": "execute_result"
    },
    {
     "data": {
      "image/png": "[encoded data removed]",
      "text/plain": [
       "<Figure size 432x288 with 1 Axes>"
      ]
     },
     "metadata": {
      "needs_background": "light"
     },
     "output_type": "display_data"
    }
   ],
   "source": [
    "Mlbbat10.hist(column='double')"
   ]
  },
  {
   "cell_type": "markdown",
   "metadata": {},
   "source": [
    "# <span style=color:darkblue>Nivell 2</span>"
   ]
  },
  {
   "cell_type": "markdown",
   "metadata": {},
   "source": [
    "<u style=color:blue>Exercici 2:</u>\n",
    "\n",
    "<span style=color:blue>Continua amb el conjunt de dades de tema esportiu que t'agradi i selecciona dos atributs del conjunt de dades. Calcula el p-valor i digues si rebutja la hipòtesi nul·la agafant un alfa de 5% .</span>"
   ]
  },
  {
   "cell_type": "markdown",
   "metadata": {},
   "source": [
    "<span style=color:green>Correlation of all the attributes</span>"
   ]
  },
  {
   "cell_type": "code",
   "execution_count": 48,
   "metadata": {
    "ExecuteTime": {
     "end_time": "2021-04-15T09:32:14.332912Z",
     "start_time": "2021-04-15T09:32:12.701787Z"
    }
   },
   "outputs": [
    {
     "data": {
      "image/png": "[encoded data removed]",
      "text/plain": [
       "<Figure size 432x288 with 2 Axes>"
      ]
     },
     "metadata": {
      "needs_background": "light"
     },
     "output_type": "display_data"
    }
   ],
   "source": [
    "corr = Mlbbat10.corr()\n",
    "fig = plt.figure()\n",
    "ax = fig.add_subplot(111)\n",
    "cax = ax.matshow(corr,cmap='coolwarm', vmin=-1, vmax=1)\n",
    "fig.colorbar(cax)\n",
    "ticks = np.arange(0,len(Mlbbat10.columns),1)\n",
    "ax.set_xticks(ticks)\n",
    "plt.xticks(rotation=90)\n",
    "ax.set_yticks(ticks)\n",
    "ax.set_xticklabels(Mlbbat10.columns)\n",
    "ax.set_yticklabels(Mlbbat10.columns)\n",
    "plt.show()"
   ]
  },
  {
   "cell_type": "code",
   "execution_count": 32,
   "metadata": {
    "ExecuteTime": {
     "end_time": "2021-04-30T11:25:43.337181Z",
     "start_time": "2021-04-30T11:25:43.146606Z"
    }
   },
   "outputs": [
    {
     "data": {
      "text/html": [
       "<div>\n",
       "<style scoped>\n",
       "    .dataframe tbody tr th:only-of-type {\n",
       "        vertical-align: middle;\n",
       "    }\n",
       "\n",
       "    .dataframe tbody tr th {\n",
       "        vertical-align: top;\n",
       "    }\n",
       "\n",
       "    .dataframe thead th {\n",
       "        text-align: right;\n",
       "    }\n",
       "</style>\n",
       "<table border=\"1\" class=\"dataframe\">\n",
       "  <thead>\n",
       "    <tr style=\"text-align: right;\">\n",
       "      <th></th>\n",
       "      <th>game</th>\n",
       "      <th>at_bat</th>\n",
       "      <th>run</th>\n",
       "      <th>hit</th>\n",
       "      <th>double</th>\n",
       "      <th>triple</th>\n",
       "      <th>home_run</th>\n",
       "      <th>rbi</th>\n",
       "      <th>total_base</th>\n",
       "      <th>walk</th>\n",
       "      <th>strike_out</th>\n",
       "      <th>stolen_base</th>\n",
       "      <th>caught_stealing</th>\n",
       "      <th>obp</th>\n",
       "      <th>slg</th>\n",
       "      <th>bat_avg</th>\n",
       "    </tr>\n",
       "  </thead>\n",
       "  <tbody>\n",
       "    <tr>\n",
       "      <th>game</th>\n",
       "      <td>1.000</td>\n",
       "      <td>0.938</td>\n",
       "      <td>0.904</td>\n",
       "      <td>0.924</td>\n",
       "      <td>0.891</td>\n",
       "      <td>0.626</td>\n",
       "      <td>0.765</td>\n",
       "      <td>0.881</td>\n",
       "      <td>0.914</td>\n",
       "      <td>0.859</td>\n",
       "      <td>0.879</td>\n",
       "      <td>0.562</td>\n",
       "      <td>0.629</td>\n",
       "      <td>0.474</td>\n",
       "      <td>0.484</td>\n",
       "      <td>0.464</td>\n",
       "    </tr>\n",
       "    <tr>\n",
       "      <th>at_bat</th>\n",
       "      <td>0.938</td>\n",
       "      <td>1.000</td>\n",
       "      <td>0.970</td>\n",
       "      <td>0.992</td>\n",
       "      <td>0.954</td>\n",
       "      <td>0.662</td>\n",
       "      <td>0.816</td>\n",
       "      <td>0.940</td>\n",
       "      <td>0.979</td>\n",
       "      <td>0.907</td>\n",
       "      <td>0.922</td>\n",
       "      <td>0.615</td>\n",
       "      <td>0.679</td>\n",
       "      <td>0.503</td>\n",
       "      <td>0.514</td>\n",
       "      <td>0.497</td>\n",
       "    </tr>\n",
       "    <tr>\n",
       "      <th>run</th>\n",
       "      <td>0.904</td>\n",
       "      <td>0.970</td>\n",
       "      <td>1.000</td>\n",
       "      <td>0.977</td>\n",
       "      <td>0.949</td>\n",
       "      <td>0.684</td>\n",
       "      <td>0.860</td>\n",
       "      <td>0.946</td>\n",
       "      <td>0.982</td>\n",
       "      <td>0.925</td>\n",
       "      <td>0.908</td>\n",
       "      <td>0.642</td>\n",
       "      <td>0.684</td>\n",
       "      <td>0.486</td>\n",
       "      <td>0.508</td>\n",
       "      <td>0.476</td>\n",
       "    </tr>\n",
       "    <tr>\n",
       "      <th>hit</th>\n",
       "      <td>0.924</td>\n",
       "      <td>0.992</td>\n",
       "      <td>0.977</td>\n",
       "      <td>1.000</td>\n",
       "      <td>0.964</td>\n",
       "      <td>0.666</td>\n",
       "      <td>0.822</td>\n",
       "      <td>0.945</td>\n",
       "      <td>0.987</td>\n",
       "      <td>0.901</td>\n",
       "      <td>0.898</td>\n",
       "      <td>0.618</td>\n",
       "      <td>0.682</td>\n",
       "      <td>0.498</td>\n",
       "      <td>0.513</td>\n",
       "      <td>0.498</td>\n",
       "    </tr>\n",
       "    <tr>\n",
       "      <th>double</th>\n",
       "      <td>0.891</td>\n",
       "      <td>0.954</td>\n",
       "      <td>0.949</td>\n",
       "      <td>0.964</td>\n",
       "      <td>1.000</td>\n",
       "      <td>0.608</td>\n",
       "      <td>0.837</td>\n",
       "      <td>0.942</td>\n",
       "      <td>0.971</td>\n",
       "      <td>0.891</td>\n",
       "      <td>0.883</td>\n",
       "      <td>0.531</td>\n",
       "      <td>0.593</td>\n",
       "      <td>0.482</td>\n",
       "      <td>0.512</td>\n",
       "      <td>0.478</td>\n",
       "    </tr>\n",
       "    <tr>\n",
       "      <th>triple</th>\n",
       "      <td>0.626</td>\n",
       "      <td>0.662</td>\n",
       "      <td>0.684</td>\n",
       "      <td>0.666</td>\n",
       "      <td>0.608</td>\n",
       "      <td>1.000</td>\n",
       "      <td>0.449</td>\n",
       "      <td>0.571</td>\n",
       "      <td>0.648</td>\n",
       "      <td>0.579</td>\n",
       "      <td>0.628</td>\n",
       "      <td>0.657</td>\n",
       "      <td>0.628</td>\n",
       "      <td>0.328</td>\n",
       "      <td>0.339</td>\n",
       "      <td>0.331</td>\n",
       "    </tr>\n",
       "    <tr>\n",
       "      <th>home_run</th>\n",
       "      <td>0.765</td>\n",
       "      <td>0.816</td>\n",
       "      <td>0.860</td>\n",
       "      <td>0.822</td>\n",
       "      <td>0.837</td>\n",
       "      <td>0.449</td>\n",
       "      <td>1.000</td>\n",
       "      <td>0.936</td>\n",
       "      <td>0.899</td>\n",
       "      <td>0.839</td>\n",
       "      <td>0.846</td>\n",
       "      <td>0.354</td>\n",
       "      <td>0.425</td>\n",
       "      <td>0.402</td>\n",
       "      <td>0.478</td>\n",
       "      <td>0.385</td>\n",
       "    </tr>\n",
       "    <tr>\n",
       "      <th>rbi</th>\n",
       "      <td>0.881</td>\n",
       "      <td>0.940</td>\n",
       "      <td>0.946</td>\n",
       "      <td>0.945</td>\n",
       "      <td>0.942</td>\n",
       "      <td>0.571</td>\n",
       "      <td>0.936</td>\n",
       "      <td>1.000</td>\n",
       "      <td>0.977</td>\n",
       "      <td>0.902</td>\n",
       "      <td>0.900</td>\n",
       "      <td>0.483</td>\n",
       "      <td>0.556</td>\n",
       "      <td>0.471</td>\n",
       "      <td>0.515</td>\n",
       "      <td>0.461</td>\n",
       "    </tr>\n",
       "    <tr>\n",
       "      <th>total_base</th>\n",
       "      <td>0.914</td>\n",
       "      <td>0.979</td>\n",
       "      <td>0.982</td>\n",
       "      <td>0.987</td>\n",
       "      <td>0.971</td>\n",
       "      <td>0.648</td>\n",
       "      <td>0.899</td>\n",
       "      <td>0.977</td>\n",
       "      <td>1.000</td>\n",
       "      <td>0.917</td>\n",
       "      <td>0.918</td>\n",
       "      <td>0.570</td>\n",
       "      <td>0.636</td>\n",
       "      <td>0.490</td>\n",
       "      <td>0.524</td>\n",
       "      <td>0.485</td>\n",
       "    </tr>\n",
       "    <tr>\n",
       "      <th>walk</th>\n",
       "      <td>0.859</td>\n",
       "      <td>0.907</td>\n",
       "      <td>0.925</td>\n",
       "      <td>0.901</td>\n",
       "      <td>0.891</td>\n",
       "      <td>0.579</td>\n",
       "      <td>0.839</td>\n",
       "      <td>0.902</td>\n",
       "      <td>0.917</td>\n",
       "      <td>1.000</td>\n",
       "      <td>0.891</td>\n",
       "      <td>0.547</td>\n",
       "      <td>0.585</td>\n",
       "      <td>0.487</td>\n",
       "      <td>0.482</td>\n",
       "      <td>0.443</td>\n",
       "    </tr>\n",
       "    <tr>\n",
       "      <th>strike_out</th>\n",
       "      <td>0.879</td>\n",
       "      <td>0.922</td>\n",
       "      <td>0.908</td>\n",
       "      <td>0.898</td>\n",
       "      <td>0.883</td>\n",
       "      <td>0.628</td>\n",
       "      <td>0.846</td>\n",
       "      <td>0.900</td>\n",
       "      <td>0.918</td>\n",
       "      <td>0.891</td>\n",
       "      <td>1.000</td>\n",
       "      <td>0.543</td>\n",
       "      <td>0.602</td>\n",
       "      <td>0.481</td>\n",
       "      <td>0.504</td>\n",
       "      <td>0.462</td>\n",
       "    </tr>\n",
       "    <tr>\n",
       "      <th>stolen_base</th>\n",
       "      <td>0.562</td>\n",
       "      <td>0.615</td>\n",
       "      <td>0.642</td>\n",
       "      <td>0.618</td>\n",
       "      <td>0.531</td>\n",
       "      <td>0.657</td>\n",
       "      <td>0.354</td>\n",
       "      <td>0.483</td>\n",
       "      <td>0.570</td>\n",
       "      <td>0.547</td>\n",
       "      <td>0.543</td>\n",
       "      <td>1.000</td>\n",
       "      <td>0.835</td>\n",
       "      <td>0.279</td>\n",
       "      <td>0.262</td>\n",
       "      <td>0.278</td>\n",
       "    </tr>\n",
       "    <tr>\n",
       "      <th>caught_stealing</th>\n",
       "      <td>0.629</td>\n",
       "      <td>0.679</td>\n",
       "      <td>0.684</td>\n",
       "      <td>0.682</td>\n",
       "      <td>0.593</td>\n",
       "      <td>0.628</td>\n",
       "      <td>0.425</td>\n",
       "      <td>0.556</td>\n",
       "      <td>0.636</td>\n",
       "      <td>0.585</td>\n",
       "      <td>0.602</td>\n",
       "      <td>0.835</td>\n",
       "      <td>1.000</td>\n",
       "      <td>0.317</td>\n",
       "      <td>0.302</td>\n",
       "      <td>0.319</td>\n",
       "    </tr>\n",
       "    <tr>\n",
       "      <th>obp</th>\n",
       "      <td>0.474</td>\n",
       "      <td>0.503</td>\n",
       "      <td>0.486</td>\n",
       "      <td>0.498</td>\n",
       "      <td>0.482</td>\n",
       "      <td>0.328</td>\n",
       "      <td>0.402</td>\n",
       "      <td>0.471</td>\n",
       "      <td>0.490</td>\n",
       "      <td>0.487</td>\n",
       "      <td>0.481</td>\n",
       "      <td>0.279</td>\n",
       "      <td>0.317</td>\n",
       "      <td>1.000</td>\n",
       "      <td>0.815</td>\n",
       "      <td>0.900</td>\n",
       "    </tr>\n",
       "    <tr>\n",
       "      <th>slg</th>\n",
       "      <td>0.484</td>\n",
       "      <td>0.514</td>\n",
       "      <td>0.508</td>\n",
       "      <td>0.513</td>\n",
       "      <td>0.512</td>\n",
       "      <td>0.339</td>\n",
       "      <td>0.478</td>\n",
       "      <td>0.515</td>\n",
       "      <td>0.524</td>\n",
       "      <td>0.482</td>\n",
       "      <td>0.504</td>\n",
       "      <td>0.262</td>\n",
       "      <td>0.302</td>\n",
       "      <td>0.815</td>\n",
       "      <td>1.000</td>\n",
       "      <td>0.892</td>\n",
       "    </tr>\n",
       "    <tr>\n",
       "      <th>bat_avg</th>\n",
       "      <td>0.464</td>\n",
       "      <td>0.497</td>\n",
       "      <td>0.476</td>\n",
       "      <td>0.498</td>\n",
       "      <td>0.478</td>\n",
       "      <td>0.331</td>\n",
       "      <td>0.385</td>\n",
       "      <td>0.461</td>\n",
       "      <td>0.485</td>\n",
       "      <td>0.443</td>\n",
       "      <td>0.462</td>\n",
       "      <td>0.278</td>\n",
       "      <td>0.319</td>\n",
       "      <td>0.900</td>\n",
       "      <td>0.892</td>\n",
       "      <td>1.000</td>\n",
       "    </tr>\n",
       "  </tbody>\n",
       "</table>\n",
       "</div>"
      ],
      "text/plain": [
       "                  game  at_bat    run    hit  double  triple  home_run    rbi  \\\n",
       "game             1.000   0.938  0.904  0.924   0.891   0.626     0.765  0.881   \n",
       "at_bat           0.938   1.000  0.970  0.992   0.954   0.662     0.816  0.940   \n",
       "run              0.904   0.970  1.000  0.977   0.949   0.684     0.860  0.946   \n",
       "hit              0.924   0.992  0.977  1.000   0.964   0.666     0.822  0.945   \n",
       "double           0.891   0.954  0.949  0.964   1.000   0.608     0.837  0.942   \n",
       "triple           0.626   0.662  0.684  0.666   0.608   1.000     0.449  0.571   \n",
       "home_run         0.765   0.816  0.860  0.822   0.837   0.449     1.000  0.936   \n",
       "rbi              0.881   0.940  0.946  0.945   0.942   0.571     0.936  1.000   \n",
       "total_base       0.914   0.979  0.982  0.987   0.971   0.648     0.899  0.977   \n",
       "walk             0.859   0.907  0.925  0.901   0.891   0.579     0.839  0.902   \n",
       "strike_out       0.879   0.922  0.908  0.898   0.883   0.628     0.846  0.900   \n",
       "stolen_base      0.562   0.615  0.642  0.618   0.531   0.657     0.354  0.483   \n",
       "caught_stealing  0.629   0.679  0.684  0.682   0.593   0.628     0.425  0.556   \n",
       "obp              0.474   0.503  0.486  0.498   0.482   0.328     0.402  0.471   \n",
       "slg              0.484   0.514  0.508  0.513   0.512   0.339     0.478  0.515   \n",
       "bat_avg          0.464   0.497  0.476  0.498   0.478   0.331     0.385  0.461   \n",
       "\n",
       "                 total_base   walk  strike_out  stolen_base  caught_stealing  \\\n",
       "game                  0.914  0.859       0.879        0.562            0.629   \n",
       "at_bat                0.979  0.907       0.922        0.615            0.679   \n",
       "run                   0.982  0.925       0.908        0.642            0.684   \n",
       "hit                   0.987  0.901       0.898        0.618            0.682   \n",
       "double                0.971  0.891       0.883        0.531            0.593   \n",
       "triple                0.648  0.579       0.628        0.657            0.628   \n",
       "home_run              0.899  0.839       0.846        0.354            0.425   \n",
       "rbi                   0.977  0.902       0.900        0.483            0.556   \n",
       "total_base            1.000  0.917       0.918        0.570            0.636   \n",
       "walk                  0.917  1.000       0.891        0.547            0.585   \n",
       "strike_out            0.918  0.891       1.000        0.543            0.602   \n",
       "stolen_base           0.570  0.547       0.543        1.000            0.835   \n",
       "caught_stealing       0.636  0.585       0.602        0.835            1.000   \n",
       "obp                   0.490  0.487       0.481        0.279            0.317   \n",
       "slg                   0.524  0.482       0.504        0.262            0.302   \n",
       "bat_avg               0.485  0.443       0.462        0.278            0.319   \n",
       "\n",
       "                   obp    slg  bat_avg  \n",
       "game             0.474  0.484    0.464  \n",
       "at_bat           0.503  0.514    0.497  \n",
       "run              0.486  0.508    0.476  \n",
       "hit              0.498  0.513    0.498  \n",
       "double           0.482  0.512    0.478  \n",
       "triple           0.328  0.339    0.331  \n",
       "home_run         0.402  0.478    0.385  \n",
       "rbi              0.471  0.515    0.461  \n",
       "total_base       0.490  0.524    0.485  \n",
       "walk             0.487  0.482    0.443  \n",
       "strike_out       0.481  0.504    0.462  \n",
       "stolen_base      0.279  0.262    0.278  \n",
       "caught_stealing  0.317  0.302    0.319  \n",
       "obp              1.000  0.815    0.900  \n",
       "slg              0.815  1.000    0.892  \n",
       "bat_avg          0.900  0.892    1.000  "
      ]
     },
     "execution_count": 32,
     "metadata": {},
     "output_type": "execute_result"
    }
   ],
   "source": [
    "Mlbbat10.corr().round(3)"
   ]
  },
  {
   "cell_type": "markdown",
   "metadata": {},
   "source": [
    "<span style=color:green> Table shows some level of correlation betweem 'double' and 'triple'. Let's confirm with hypothesis testing</span>"
   ]
  },
  {
   "cell_type": "markdown",
   "metadata": {},
   "source": [
    "<span style=color:green><b> Pearson’s Correlation test</span>"
   ]
  },
  {
   "cell_type": "markdown",
   "metadata": {},
   "source": [
    "<span style=color:green> H0: the two samples are independent.</span>  \n",
    "<span style=color:green> H1: there is a dependency between the samples</span>"
   ]
  },
  {
   "cell_type": "code",
   "execution_count": 33,
   "metadata": {
    "ExecuteTime": {
     "end_time": "2021-04-30T11:34:08.512772Z",
     "start_time": "2021-04-30T11:34:08.486786Z"
    }
   },
   "outputs": [
    {
     "name": "stdout",
     "output_type": "stream",
     "text": [
      "stat=0.608, p=0.000\n",
      "Probably dependent\n"
     ]
    }
   ],
   "source": [
    "from scipy.stats import pearsonr\n",
    "stat, p = pearsonr(Mlbbat10.double, Mlbbat10.triple)\n",
    "print('stat=%.3f, p=%.3f' % (stat, p))\n",
    "if p > 0.05:\n",
    "\tprint('Probably independent')\n",
    "else:\n",
    "\tprint('Probably dependent')"
   ]
  },
  {
   "cell_type": "markdown",
   "metadata": {},
   "source": [
    "<span style=color:green> As p<0.5,it is confirmaed that the 2 variables have some dependency </span>"
   ]
  },
  {
   "cell_type": "markdown",
   "metadata": {},
   "source": [
    "# <span style=color:darkblue>Nivell 3</span>"
   ]
  },
  {
   "cell_type": "markdown",
   "metadata": {},
   "source": [
    "<u style=color:blue>Exercici 3:</u>\n",
    "\n",
    "<span style=color:blue>Continua amb el conjunt de dades de tema esportiu que t'agradi i selecciona tres atributs del conjunt de dades. Calcula el p-valor i digues si rebutja la hipòtesi nul·la agafant un alfa de 5%.</span>\n"
   ]
  },
  {
   "cell_type": "markdown",
   "metadata": {},
   "source": [
    "<span style=color:green> Let's check if means of 'obp (On base percentage)', 'slg (Slugging percentage)' and 'bat_avg (Batting average) are significantly different </span>"
   ]
  },
  {
   "cell_type": "markdown",
   "metadata": {},
   "source": [
    "<span style=color:green><b> ANOVA:\n",
    "Tests whether the means of two or more independent samples are significantly different. </span>"
   ]
  },
  {
   "cell_type": "markdown",
   "metadata": {},
   "source": [
    "<span style=color:green> H0: the means of the samples are equal</span>  \n",
    "<span style=color:green> H1: one or more of the means of the samples are unequal.</span>"
   ]
  },
  {
   "cell_type": "code",
   "execution_count": 35,
   "metadata": {
    "ExecuteTime": {
     "end_time": "2021-04-30T11:50:34.892253Z",
     "start_time": "2021-04-30T11:50:34.880260Z"
    }
   },
   "outputs": [
    {
     "name": "stdout",
     "output_type": "stream",
     "text": [
      "stat=52.178, p=0.000\n",
      "Probably different distributions\n"
     ]
    }
   ],
   "source": [
    "from scipy.stats import f_oneway\n",
    "stat, p = f_oneway(Mlbbat10.obp, Mlbbat10.slg, Mlbbat10.bat_avg)\n",
    "print('stat=%.3f, p=%.3f' % (stat, p))\n",
    "if p > 0.05:\n",
    "\tprint('Probably the same distribution')\n",
    "else:\n",
    "\tprint('Probably different distributions')"
   ]
  }
 ],
 "metadata": {
  "kernelspec": {
   "display_name": "Python 3",
   "language": "python",
   "name": "python3"
  },
  "language_info": {
   "codemirror_mode": {
    "name": "ipython",
    "version": 3
   },
   "file_extension": ".py",
   "mimetype": "text/x-python",
   "name": "python",
   "nbconvert_exporter": "python",
   "pygments_lexer": "ipython3",
   "version": "3.8.5"
  }
 },
 "nbformat": 4,
 "nbformat_minor": 4
}
